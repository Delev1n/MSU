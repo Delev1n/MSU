{
 "cells": [
  {
   "cell_type": "code",
   "execution_count": 13,
   "metadata": {},
   "outputs": [
    {
     "name": "stdout",
     "output_type": "stream",
     "text": [
      "Requirement already satisfied: librosa in /home/delev1n/anaconda3/lib/python3.9/site-packages (0.9.2)\n",
      "Requirement already satisfied: scikit-learn>=0.19.1 in /home/delev1n/anaconda3/lib/python3.9/site-packages (from librosa) (1.0.2)\n",
      "Requirement already satisfied: numba>=0.45.1 in /home/delev1n/anaconda3/lib/python3.9/site-packages (from librosa) (0.55.1)\n",
      "Requirement already satisfied: packaging>=20.0 in /home/delev1n/anaconda3/lib/python3.9/site-packages (from librosa) (21.3)\n",
      "Requirement already satisfied: resampy>=0.2.2 in /home/delev1n/anaconda3/lib/python3.9/site-packages (from librosa) (0.4.2)\n",
      "Requirement already satisfied: scipy>=1.2.0 in /home/delev1n/anaconda3/lib/python3.9/site-packages (from librosa) (1.7.3)\n",
      "Requirement already satisfied: numpy>=1.17.0 in /home/delev1n/anaconda3/lib/python3.9/site-packages (from librosa) (1.21.5)\n",
      "Requirement already satisfied: decorator>=4.0.10 in /home/delev1n/anaconda3/lib/python3.9/site-packages (from librosa) (5.1.1)\n",
      "Requirement already satisfied: soundfile>=0.10.2 in /home/delev1n/anaconda3/lib/python3.9/site-packages (from librosa) (0.11.0)\n",
      "Requirement already satisfied: joblib>=0.14 in /home/delev1n/anaconda3/lib/python3.9/site-packages (from librosa) (1.1.0)\n",
      "Requirement already satisfied: audioread>=2.1.9 in /home/delev1n/anaconda3/lib/python3.9/site-packages (from librosa) (3.0.0)\n",
      "Requirement already satisfied: pooch>=1.0 in /home/delev1n/anaconda3/lib/python3.9/site-packages (from librosa) (1.6.0)\n",
      "Requirement already satisfied: llvmlite<0.39,>=0.38.0rc1 in /home/delev1n/anaconda3/lib/python3.9/site-packages (from numba>=0.45.1->librosa) (0.38.0)\n",
      "Requirement already satisfied: setuptools in /home/delev1n/anaconda3/lib/python3.9/site-packages (from numba>=0.45.1->librosa) (61.2.0)\n",
      "Requirement already satisfied: pyparsing!=3.0.5,>=2.0.2 in /home/delev1n/anaconda3/lib/python3.9/site-packages (from packaging>=20.0->librosa) (3.0.4)\n",
      "Requirement already satisfied: requests>=2.19.0 in /home/delev1n/anaconda3/lib/python3.9/site-packages (from pooch>=1.0->librosa) (2.27.1)\n",
      "Requirement already satisfied: appdirs>=1.3.0 in /home/delev1n/anaconda3/lib/python3.9/site-packages (from pooch>=1.0->librosa) (1.4.4)\n",
      "Requirement already satisfied: urllib3<1.27,>=1.21.1 in /home/delev1n/anaconda3/lib/python3.9/site-packages (from requests>=2.19.0->pooch>=1.0->librosa) (1.26.9)\n",
      "Requirement already satisfied: idna<4,>=2.5 in /home/delev1n/anaconda3/lib/python3.9/site-packages (from requests>=2.19.0->pooch>=1.0->librosa) (3.3)\n",
      "Requirement already satisfied: charset-normalizer~=2.0.0 in /home/delev1n/anaconda3/lib/python3.9/site-packages (from requests>=2.19.0->pooch>=1.0->librosa) (2.0.4)\n",
      "Requirement already satisfied: certifi>=2017.4.17 in /home/delev1n/anaconda3/lib/python3.9/site-packages (from requests>=2.19.0->pooch>=1.0->librosa) (2021.10.8)\n",
      "Requirement already satisfied: threadpoolctl>=2.0.0 in /home/delev1n/anaconda3/lib/python3.9/site-packages (from scikit-learn>=0.19.1->librosa) (2.2.0)\n",
      "Requirement already satisfied: cffi>=1.0 in /home/delev1n/anaconda3/lib/python3.9/site-packages (from soundfile>=0.10.2->librosa) (1.15.0)\n",
      "Requirement already satisfied: pycparser in /home/delev1n/anaconda3/lib/python3.9/site-packages (from cffi>=1.0->soundfile>=0.10.2->librosa) (2.21)\n"
     ]
    }
   ],
   "source": [
    "!pip install librosa"
   ]
  },
  {
   "cell_type": "code",
   "execution_count": 14,
   "metadata": {
    "id": "MFIB2hLfUewk"
   },
   "outputs": [],
   "source": [
    "import numpy as np\n",
    "from numpy.polynomial import polynomial as p\n",
    "from sympy import *\n",
    "from sympy.core.numbers import Zero\n",
    "import math\n",
    "import librosa as lr\n",
    "import scipy.io.wavfile as wavf\n",
    "import os"
   ]
  },
  {
   "cell_type": "code",
   "execution_count": 65,
   "metadata": {
    "id": "Tx7MAQ4TOwEt"
   },
   "outputs": [],
   "source": [
    "class Filter:\n",
    "\n",
    "    def __init__(self, weights, indexes):\n",
    "\n",
    "        if len(weights) != len(indexes):\n",
    "            raise Exception(\"Lengths of values and indices can't be different!\")\n",
    "\n",
    "        self.weights = weights\n",
    "        self.indexes = indexes\n",
    "        self.base = indexes[0]\n",
    "        self.end = indexes[-1]\n",
    "\n",
    "    def __str__(self):\n",
    "\n",
    "        return str((self.weights, self.indexes))\n",
    "\n",
    "    def __add__(self, other):\n",
    "\n",
    "        new_weights = []\n",
    "        new_indexes = list(range(min(self.indexes[0], other.indexes[0]), \n",
    "                                max(self.indexes[-1], other.indexes[-1]) + 1))\n",
    "\n",
    "        for index in range(len(new_indexes)):\n",
    "            new_weights.append(self[index] + other[index])\n",
    "\n",
    "        return Filter(new_weights, new_indexes)\n",
    "\n",
    "    def __mul__(self, other):\n",
    "\n",
    "        if other == upsampling:\n",
    "            return upsampling(self)\n",
    "\n",
    "        elif other == downsampling:\n",
    "            return downsampling(self)\n",
    "\n",
    "        new_weights = []\n",
    "        new_indexes = list(range(self.indexes[0] + other.indexes[0],\n",
    "                         self.indexes[-1] + other.indexes[-1] + 1))\n",
    "\n",
    "        for n in new_indexes:\n",
    "            value = 0\n",
    "            for k in range(max(n - other.end, self.base), min(n - other.base, self.end)+1):\n",
    "                value += self[k] * other[n - k]\n",
    "            new_weights.append(value)\n",
    "\n",
    "        return Filter(new_weights, new_indexes)\n",
    "    \n",
    "    def __getitem__(self, key):\n",
    "        \n",
    "        if type(key) != int:\n",
    "            raise Exception(\"index should have an int type\")\n",
    "            \n",
    "        if self.base <= key <= self.end:\n",
    "            return self.weights[key - self.base]\n",
    "        else:\n",
    "            return 0\n",
    "\n",
    "    def polynomial(self):\n",
    "\n",
    "        z = symbols('z')\n",
    "        polynomial = 0\n",
    "\n",
    "        for i in self.indexes:\n",
    "            polynomial += self.weights[i - self.indexes[0]] * (z ** i)\n",
    "\n",
    "        return polynomial"
   ]
  },
  {
   "cell_type": "code",
   "execution_count": 16,
   "metadata": {},
   "outputs": [],
   "source": [
    "def upsampling(filt):\n",
    "\n",
    "    new_weights = []\n",
    "    new_indexes = [n for n in \n",
    "                    range(2 * filt.indexes[0], 2 * filt.indexes[-1] + 1)]\n",
    "\n",
    "    for i in range(new_indexes[0], len(new_indexes) + new_indexes[0], 2):\n",
    "        new_weights.append(filt.weights[int(i/2)])\n",
    "        new_weights.append(0)\n",
    "        \n",
    "    new_weights.pop(-1)\n",
    "\n",
    "    return Filter(new_weights, new_indexes)\n",
    "\n",
    "def downsampling(filt):\n",
    "\n",
    "    new_weights = []\n",
    "    new_indexes = []\n",
    "\n",
    "    for index in filt.indexes:\n",
    "        if index % 2 == 0:\n",
    "            new_indexes.append(int(index/2))\n",
    "            new_weights.append(filt.weights[index - filt.indexes[0]])\n",
    "\n",
    "    return Filter(new_weights, new_indexes)"
   ]
  },
  {
   "cell_type": "code",
   "execution_count": 17,
   "metadata": {
    "id": "hjOjH_LdBhFs"
   },
   "outputs": [],
   "source": [
    "def numpy_roots(filt):\n",
    "\n",
    "    filt_vals = filt.weights.copy()\n",
    "    if filt.indexes[0] == 0:\n",
    "        filt_vals.reverse()\n",
    "        return np.roots(filt_vals)\n",
    "    else:\n",
    "        vals = []\n",
    "        i = 0\n",
    "        while i != filt.indexes[0]:\n",
    "            vals.append(0)\n",
    "            i += 1\n",
    "        for i in filt.weights:\n",
    "            vals.append(i)\n",
    "        vals.reverse()\n",
    "        return np.roots(vals)    \n",
    "    \n",
    "def best_match(roots, solve, eps=0.0000001):\n",
    "\n",
    "    ans=[]\n",
    "    for sol in solve:\n",
    "        if sol.is_real:\n",
    "            isreal = True\n",
    "        else:\n",
    "            isreal = False\n",
    "        for root in roots:\n",
    "            if isreal:\n",
    "                if abs(sol - np.real(root)) < eps:\n",
    "                    ans.append(sol)\n",
    "            else:\n",
    "                if abs(re(sol) - np.real(root)) < eps and abs(im(sol) - np.imag(root)) < eps:\n",
    "                    ans.append([re(sol), im(sol)])\n",
    "\n",
    "    if len(ans) != len(roots):\n",
    "        return best_match(roots, solve, eps*10)\n",
    "    else:\n",
    "        return ans\n",
    "\n",
    "def find_roots(filter):\n",
    "    \n",
    "    ans = []\n",
    "    roots = best_match(numpy_roots(filter), solve(filter.polynomial()))\n",
    "    matches = []\n",
    "    for i in roots:\n",
    "        check = 0\n",
    "        if type(i) == list:\n",
    "            for j in matches:\n",
    "                if i[1] == -j[1]:\n",
    "                    matches.remove(j)\n",
    "                    check = 1\n",
    "                    break\n",
    "            if check == 0:\n",
    "                matches.append(i)\n",
    "                ans.append(i)\n",
    "        else:\n",
    "            ans.append(i)\n",
    "\n",
    "    return ans"
   ]
  },
  {
   "cell_type": "code",
   "execution_count": 18,
   "metadata": {
    "id": "dLCYkb-R8r1c"
   },
   "outputs": [],
   "source": [
    "def rec_comb(n, f0, f1, filters, root_filters, k):\n",
    "\n",
    "    if n == 0:\n",
    "        filters.append([Filter([k],[0]) * f0, f1])\n",
    "    else:\n",
    "        n -= 1\n",
    "        rec_comb(n, f0 * root_filters[n - 1], f1, filters, root_filters, k)\n",
    "        rec_comb(n, f0, f1 * root_filters[n - 1], filters, root_filters, k)\n",
    "\n",
    "def factorization(f):\n",
    "\n",
    "    filters = []\n",
    "    root_filters = []\n",
    "    root_list = find_roots(f)\n",
    "\n",
    "    for root in root_list:\n",
    "        if type(root) == list:\n",
    "            root_filters.append(Filter([root[0]**2-root[1]**2, -2*root[0], 1],\n",
    "                                   [0, 1, 2]))\n",
    "        else:\n",
    "            root_filters.append(Filter([-root, 1], [0, 1]))\n",
    "\n",
    "    n = len(root_list)\n",
    "\n",
    "    f0 = Filter([1], [0])\n",
    "    f1 = Filter([1], [0])\n",
    "    k = f.weights[-1]\n",
    "    rec_comb(n, f0, f1, filters, root_filters, k)\n",
    "\n",
    "    return filters"
   ]
  },
  {
   "cell_type": "code",
   "execution_count": 19,
   "metadata": {
    "id": "XBOgHR-Q_NBo"
   },
   "outputs": [],
   "source": [
    "def convert_upper_to_lower(h_0, f_0):\n",
    "\n",
    "    f_1 = Filter(h_0.weights, h_0.indexes)\n",
    "    h_1 = Filter(f_0.weights, f_0.indexes)\n",
    "\n",
    "    for i in f_1.indexes:\n",
    "        if i % 2 == 0:\n",
    "            f_1.weights[i - f_1.indexes[0]] *= -1\n",
    "\n",
    "    for i in h_1.indexes:\n",
    "        if i % 2 == 1:\n",
    "            h_1.weights[i - h_1.indexes[0]] *= -1\n",
    "\n",
    "    return (h_1, f_1)"
   ]
  },
  {
   "cell_type": "code",
   "execution_count": 91,
   "metadata": {
    "id": "svj7q3ovCwxZ"
   },
   "outputs": [],
   "source": [
    "def return_h_0_f_0(letter):\n",
    "\n",
    "    if letter == \"a\":\n",
    "        h_0 = Filter([1], [0])\n",
    "        f_0 = Filter([-1/16, 0, 9/16, 1, 9/16, 0, -1/16], [0, 1, 2, 3, 4, 5, 6])\n",
    "\n",
    "    elif letter == \"b\":\n",
    "        h_0 = Filter([1/2, 1/2], [0, 1])\n",
    "        f_0 = Filter([-1/8, 1/8, 1, 1, 1/8, -1/8], [0, 1, 2, 3, 4, 5])\n",
    "\n",
    "    elif letter == \"c\":\n",
    "        h_0 = Filter([1/4, 1/2, 1/4], [0, 1, 2])\n",
    "        f_0 = Filter([-1/4, 1/2, 3/2, 1/2, -1/4], [0, 1, 2, 3, 4])\n",
    "\n",
    "    elif letter == \"d\":\n",
    "        h_0 = Filter([(2 + sqrt(3))/2, (1 + sqrt(3))/2, -1/2], [0, 1, 2])\n",
    "        f_0 = Filter([(sqrt(3) - 2)/8, (3 * sqrt(3) - 5)/8, \n",
    "                      (3 * sqrt(3) - 3)/8, (sqrt(3) + 1)/8, 1/8], [0, 1, 2, 3, 4])\n",
    "\n",
    "    elif letter == \"e\":\n",
    "        h_0 = Filter([1/8, 3/8, 3/8, 1/8], [0, 1, 2, 3])\n",
    "        f_0 = Filter([-1/2, 3/2, 3/2, -1/2], [0, 1, 2, 3])\n",
    "\n",
    "    elif letter == \"f\":\n",
    "        h_0 = Filter([(1 + sqrt(3))/(4 * sqrt(2)), (3 + sqrt(3))/(4 * sqrt(2)), \n",
    "                     (3 - sqrt(3))/(4 * sqrt(2)), (1 - sqrt(3))/(4 * sqrt(2))], [0, 1, 2, 3])\n",
    "        f_0 = Filter([(-2 + sqrt(3))/(2 * sqrt(2) * (sqrt(3) - 1)), \n",
    "                     (-3 + 2 * sqrt(3))/(2 * sqrt(2) * (sqrt(3) - 1)), \n",
    "                     sqrt(3)/(2 * sqrt(2) * (sqrt(3) - 1)), \n",
    "                     1/(2 * sqrt(2) * (sqrt(3) - 1))], [0, 1, 2, 3])\n",
    "\n",
    "    elif letter == \"g\":\n",
    "        h_0 = Filter([1/16, 1/4, 3/8, 1/4, 1/16], [0, 1, 2, 3, 4])\n",
    "        f_0 = Filter([-1, 4, -1], [0, 1, 2])\n",
    "\n",
    "    return (h_0, f_0)"
   ]
  },
  {
   "cell_type": "code",
   "execution_count": 90,
   "metadata": {},
   "outputs": [
    {
     "data": {
      "text/latex": [
       "$\\displaystyle \\frac{1}{4}$"
      ],
      "text/plain": [
       "1/4"
      ]
     },
     "execution_count": 90,
     "metadata": {},
     "output_type": "execute_result"
    }
   ],
   "source": [
    "simplify(np.dot(np.array([(1 + sqrt(3))/(4 * sqrt(2)), (3 + sqrt(3))/(4 * sqrt(2)), \n",
    "                     (3 - sqrt(3))/(4 * sqrt(2)), (1 - sqrt(3))/(4 * sqrt(2))]), np.array([(-2 + sqrt(3))/(2 * sqrt(2) * (sqrt(3) - 1)), \n",
    "                     (-3 + 2 * sqrt(3))/(2 * sqrt(2) * (sqrt(3) - 1)), \n",
    "                     sqrt(3)/(2 * sqrt(2) * (sqrt(3) - 1)), \n",
    "                     1/(2 * sqrt(2) * (sqrt(3) - 1))])))"
   ]
  },
  {
   "cell_type": "code",
   "execution_count": 88,
   "metadata": {},
   "outputs": [],
   "source": [
    "h_0, f_0 = return_h_0_f_0(\"f\")\n",
    "h_1, f_1 = convert_upper_to_lower(h_0, f_0)"
   ]
  },
  {
   "cell_type": "code",
   "execution_count": 92,
   "metadata": {},
   "outputs": [
    {
     "name": "stdout",
     "output_type": "stream",
     "text": [
      "1/8\n",
      "0\n",
      "-3/4\n",
      "1\n",
      "-3/8\n",
      "0\n"
     ]
    }
   ],
   "source": [
    "d_01 = h_0 * downsampling * upsampling * f_0\n",
    "d_11 = h_1 * downsampling * upsampling * f_1\n",
    "\n",
    "d = d_01 + d_11\n",
    "for i in d.weights:\n",
    "    print(simplify(i))"
   ]
  },
  {
   "cell_type": "code",
   "execution_count": 26,
   "metadata": {},
   "outputs": [],
   "source": [
    "def song_generation(curr, p, h_0, f_0, h_1, f_1, song, sr):\n",
    "    \n",
    "    if curr == p:\n",
    "        return np.array(song)\n",
    "\n",
    "    d_0 = Filter(song, range(len(song))) * h_0 * downsampling\n",
    "    d = song_generation(curr + 1, p, h_0, f_0, h_1, f_1, np.array(d_0.weights), sr)\n",
    "    d_1 = Filter(d, range(len(d))) * upsampling * f_0\n",
    "    \n",
    "    return np.array(d_1.weights)\n",
    "        \n",
    "def call_rec(letter, p, song, song_name, sr):\n",
    "    \n",
    "    h_0, f_0 = return_h_0_f_0(letter)\n",
    "    h_1, f_1 = convert_upper_to_lower(h_0, f_0)\n",
    "    \n",
    "    if not os.path.exists(song_name):\n",
    "        os.makedirs(song_name)\n",
    "    \n",
    "    rec_song = song_generation(0, p, h_0, f_0, h_1, f_1, song, sr)\n",
    "    wavf.write('{}/{}_{}_{}.wav'.format(song_name, song_name, letter, p), sr, rec_song)"
   ]
  },
  {
   "cell_type": "code",
   "execution_count": 27,
   "metadata": {},
   "outputs": [],
   "source": [
    "input_song_inst = lr.load('Piano.wav')\n",
    "song_inst = input_song_inst[0]\n",
    "sr_inst = input_song_inst[1]\n",
    "song_name_inst = \"Piano\""
   ]
  },
  {
   "cell_type": "code",
   "execution_count": 28,
   "metadata": {},
   "outputs": [],
   "source": [
    "for letter in [\"b\", \"c\", \"f\"]:\n",
    "    for num in range(2, 5):\n",
    "        call_rec(letter, num, song_inst, song_name_inst, sr_inst)"
   ]
  },
  {
   "cell_type": "code",
   "execution_count": 75,
   "metadata": {},
   "outputs": [],
   "source": [
    "def is_symm(arr):\n",
    "    for i in range(int(len(arr)/2)):\n",
    "        if arr[i] != arr[int(len(arr)) - i - 1]:\n",
    "            return False\n",
    "    return True\n",
    "\n",
    "def divide_groups(filt):\n",
    "    \n",
    "    ort = []\n",
    "    lin = []\n",
    "    pairs = []\n",
    "    \n",
    "    #pairs = factorization(filt)\n",
    "    for letter in [\"a\", \"b\", \"c\", \"d\", \"e\", \"f\", \"g\"]:\n",
    "        pairs.append(return_h_0_f_0(letter))\n",
    "    \n",
    "    for i in pairs:\n",
    "        if i == pairs[-2]:\n",
    "            print(simplify(np.dot(np.array(i[0].weights), \n",
    "                            np.array(i[1].weights))))\n",
    "        if len(i[0].indexes) == len(i[1].indexes) and np.dot(np.array(i[0].weights), \n",
    "                                                             np.array(i[1].weights)) == 0:\n",
    "            ort.append(i)\n",
    "        if is_symm(i[0].weights) and is_symm(i[1].weights):\n",
    "            lin.append(i)\n",
    "    \n",
    "    return ort, lin"
   ]
  },
  {
   "cell_type": "code",
   "execution_count": 76,
   "metadata": {},
   "outputs": [],
   "source": [
    "p_0 = Filter([-1/16, 0, 9/16, 1, 9/16, 0, -1/16], range(7))"
   ]
  },
  {
   "cell_type": "code",
   "execution_count": 77,
   "metadata": {},
   "outputs": [
    {
     "name": "stdout",
     "output_type": "stream",
     "text": [
      "1/4\n"
     ]
    }
   ],
   "source": [
    "ort, lin = divide_groups(p_0)"
   ]
  },
  {
   "cell_type": "code",
   "execution_count": 41,
   "metadata": {},
   "outputs": [
    {
     "name": "stdout",
     "output_type": "stream",
     "text": [
      "============\n"
     ]
    }
   ],
   "source": [
    "for i in ort:\n",
    "    print(i[0])\n",
    "    print(i[1])\n",
    "    print()\n",
    "    \n",
    "print(\"============\")\n",
    "\n",
    "for i in lin:\n",
    "    print(i[0])\n",
    "    print(i[1])\n",
    "    print()"
   ]
  }
 ],
 "metadata": {
  "colab": {
   "collapsed_sections": [],
   "provenance": []
  },
  "kernelspec": {
   "display_name": "Python 3 (ipykernel)",
   "language": "python",
   "name": "python3"
  },
  "language_info": {
   "codemirror_mode": {
    "name": "ipython",
    "version": 3
   },
   "file_extension": ".py",
   "mimetype": "text/x-python",
   "name": "python",
   "nbconvert_exporter": "python",
   "pygments_lexer": "ipython3",
   "version": "3.9.12"
  }
 },
 "nbformat": 4,
 "nbformat_minor": 1
}
